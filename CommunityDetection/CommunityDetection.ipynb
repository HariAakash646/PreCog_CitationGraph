{
  "nbformat": 4,
  "nbformat_minor": 0,
  "metadata": {
    "colab": {
      "provenance": [],
      "gpuType": "T4"
    },
    "kernelspec": {
      "name": "python3",
      "display_name": "Python 3"
    },
    "language_info": {
      "name": "python"
    },
    "accelerator": "GPU"
  },
  "cells": [
    {
      "cell_type": "code",
      "execution_count": 1,
      "metadata": {
        "colab": {
          "base_uri": "https://localhost:8080/"
        },
        "id": "_ZBhaNyRcqNn",
        "outputId": "852a795a-a532-40db-80df-79ccd14789a6"
      },
      "outputs": [
        {
          "output_type": "stream",
          "name": "stdout",
          "text": [
            "--2024-11-16 18:41:10--  http://snap.stanford.edu/data/cit-HepPh.txt.gz\n",
            "Resolving snap.stanford.edu (snap.stanford.edu)... 171.64.75.80\n",
            "Connecting to snap.stanford.edu (snap.stanford.edu)|171.64.75.80|:80... connected.\n",
            "HTTP request sent, awaiting response... 200 OK\n",
            "Length: 1664504 (1.6M) [application/x-gzip]\n",
            "Saving to: ‘CitationGraph.txt.gz’\n",
            "\n",
            "CitationGraph.txt.g 100%[===================>]   1.59M  1.26MB/s    in 1.3s    \n",
            "\n",
            "2024-11-16 18:41:12 (1.26 MB/s) - ‘CitationGraph.txt.gz’ saved [1664504/1664504]\n",
            "\n"
          ]
        }
      ],
      "source": [
        "!wget http://snap.stanford.edu/data/cit-HepPh.txt.gz -O CitationGraph.txt.gz\n",
        "!gunzip CitationGraph.txt.gz"
      ]
    },
    {
      "cell_type": "code",
      "source": [
        "!wget http://snap.stanford.edu/data/cit-HepPh-dates.txt.gz -O CitationDates.txt.gz\n",
        "!gunzip CitationDates.txt.gz"
      ],
      "metadata": {
        "colab": {
          "base_uri": "https://localhost:8080/"
        },
        "id": "RDT5_hzoctU9",
        "outputId": "8b728549-86d8-41cd-fac6-8aa112a23dee"
      },
      "execution_count": 2,
      "outputs": [
        {
          "output_type": "stream",
          "name": "stdout",
          "text": [
            "--2024-11-16 18:41:12--  http://snap.stanford.edu/data/cit-HepPh-dates.txt.gz\n",
            "Resolving snap.stanford.edu (snap.stanford.edu)... 171.64.75.80\n",
            "Connecting to snap.stanford.edu (snap.stanford.edu)|171.64.75.80|:80... connected.\n",
            "HTTP request sent, awaiting response... 200 OK\n",
            "Length: 96569 (94K) [application/x-gzip]\n",
            "Saving to: ‘CitationDates.txt.gz’\n",
            "\n",
            "CitationDates.txt.g 100%[===================>]  94.31K   339KB/s    in 0.3s    \n",
            "\n",
            "2024-11-16 18:41:12 (339 KB/s) - ‘CitationDates.txt.gz’ saved [96569/96569]\n",
            "\n"
          ]
        }
      ]
    },
    {
      "cell_type": "code",
      "source": [
        "import networkx as nx\n",
        "import matplotlib.pyplot as plt\n",
        "import numpy as np\n",
        "import pandas as pd\n",
        "import tensorflow as tf\n",
        "import random"
      ],
      "metadata": {
        "id": "0Z1V_-o-cw6u"
      },
      "execution_count": 3,
      "outputs": []
    },
    {
      "cell_type": "code",
      "source": [
        "# https://www.researchgate.net/publication/362459677_Community_detection_methods_for_directed_graphs/fulltext/64f6965a827074313ffd97b6/Community-detection-methods-for-directed-graphs.pdf"
      ],
      "metadata": {
        "id": "u_suMk0Dc0ww"
      },
      "execution_count": 4,
      "outputs": []
    },
    {
      "cell_type": "code",
      "source": [
        "# https://arxiv.org/abs/1308.0971"
      ],
      "metadata": {
        "id": "E5Iu5D3FiN3W"
      },
      "execution_count": 5,
      "outputs": []
    },
    {
      "cell_type": "code",
      "source": [
        "# https://www.pnas.org/doi/epdf/10.1073/pnas.0706851105"
      ],
      "metadata": {
        "id": "p3xi2eWTiOX-"
      },
      "execution_count": null,
      "outputs": []
    },
    {
      "cell_type": "code",
      "source": [],
      "metadata": {
        "id": "D4ohB99DOZZI"
      },
      "execution_count": null,
      "outputs": []
    },
    {
      "cell_type": "code",
      "source": [
        "# Get basic info about the nodes of the graph\n",
        "\n",
        "graph = nx.DiGraph()\n",
        "reverse_graph = nx.DiGraph()\n",
        "\n",
        "\n",
        "max_id = 0\n",
        "min_id = 1e9\n",
        "\n",
        "nodes = set()\n",
        "\n",
        "edge_list = []\n",
        "\n",
        "with open(\"CitationGraph.txt\", \"r\") as f:\n",
        "\n",
        "    lines = f.readlines()\n",
        "    lines = [line.strip(\"\\n\") for line in lines[4:]]\n",
        "\n",
        "    for line in lines:\n",
        "        a, b = line.split()\n",
        "        a = int(a)\n",
        "        b = int(b)\n",
        "\n",
        "        max_id = max(max_id, a, b)\n",
        "        min_id = min(min_id, a, b)\n",
        "\n",
        "        nodes.add(a)\n",
        "        nodes.add(b)\n",
        "\n",
        "        edge_list.append((a, b))\n",
        "\n",
        "nodes = list(nodes)\n",
        "nodes.sort()\n",
        "graph.add_nodes_from(nodes)\n",
        "reverse_graph.add_nodes_from(nodes)\n",
        "num_nodes = len(nodes)\n",
        "\n",
        "for pair in edge_list:\n",
        "    # if pair[0] == pair[1]:\n",
        "    #     continue\n",
        "    graph.add_edge(pair[0], pair[1])\n",
        "    reverse_graph.add_edge(pair[1], pair[0])\n",
        "\n",
        "\n",
        "num_edges = graph.number_of_edges()\n",
        "\n",
        "print(f\"Number of nodes: {num_nodes}\")\n",
        "print(f\"Number of edges: {num_edges}\")\n",
        "\n",
        "max_id"
      ],
      "metadata": {
        "colab": {
          "base_uri": "https://localhost:8080/"
        },
        "id": "6lubXKqDOdO5",
        "outputId": "4d5400a4-33cb-4cf0-8ef0-07ea88469bb3"
      },
      "execution_count": 6,
      "outputs": [
        {
          "output_type": "stream",
          "name": "stdout",
          "text": [
            "Number of nodes: 34546\n",
            "Number of edges: 421578\n"
          ]
        },
        {
          "output_type": "execute_result",
          "data": {
            "text/plain": [
              "9912553"
            ]
          },
          "metadata": {},
          "execution_count": 6
        }
      ]
    },
    {
      "cell_type": "code",
      "source": [
        "date_node = []\n",
        "node_dates = {}\n",
        "\n",
        "with open(\"CitationDates.txt\", \"r\") as f:\n",
        "    lines = f.readlines()\n",
        "    lines = [line.strip(\"\\n\") for line in lines[1:]]\n",
        "\n",
        "    for line in lines:\n",
        "        a, b = line.split()\n",
        "        if(len(a) > 7):\n",
        "             a = a[2:]\n",
        "        a = int(a.lstrip('0'))\n",
        "        if not graph.has_node(a):\n",
        "            if str(a)[:2] == \"11\":\n",
        "                a = int(str(a)[2:])\n",
        "            if not graph.has_node(a):\n",
        "                continue\n",
        "        # date_node.append((b, a))\n",
        "        if(node_dates.get(a) == None):\n",
        "            node_dates[a] = b\n",
        "        else:\n",
        "            node_dates[a] = min(node_dates[a], b)\n",
        "\n",
        "for node in node_dates:\n",
        "    date_node.append((node_dates[node], node))\n",
        "\n",
        "# for node in graph.nodes():              # If the date of a particular paper is not in the file, we set the date to be something greater than the latest paper\n",
        "#     if node_dates.get(node) == None:\n",
        "#         node_dates[node] = \"2002-04-01\"\n",
        "#         date_node.append((node_dates[node], node))\n",
        "\n",
        "date_node.sort()\n",
        "print(len(date_node))\n",
        "cnt = 0\n"
      ],
      "metadata": {
        "colab": {
          "base_uri": "https://localhost:8080/"
        },
        "id": "w7A0lcuwSy7o",
        "outputId": "77c4fdc0-26f2-49f7-ff50-5d64fc138df4"
      },
      "execution_count": 7,
      "outputs": [
        {
          "output_type": "stream",
          "name": "stdout",
          "text": [
            "30561\n"
          ]
        }
      ]
    },
    {
      "cell_type": "code",
      "source": [
        "def lower_bound(date):\n",
        "    l = 0\n",
        "    r = len(date_node)\n",
        "\n",
        "    while l != r:\n",
        "        mid = int((l+r)/2)\n",
        "        if(date_node[mid][0] >= date):\n",
        "            r = mid\n",
        "        else:\n",
        "            l = mid + 1\n",
        "    return l\n"
      ],
      "metadata": {
        "id": "vxCrBngRS3og"
      },
      "execution_count": 8,
      "outputs": []
    },
    {
      "cell_type": "code",
      "source": [
        "time_graph = nx.DiGraph()\n",
        "time_reverse_graph = nx.DiGraph()\n",
        "\n",
        "def add_edges(start_date, end_date):\n",
        "    start_idx = lower_bound(start_date)\n",
        "\n",
        "    for i in range(start_idx, len(date_node)):\n",
        "        if(date_node[i][0] > end_date):\n",
        "            break\n",
        "        # print(start_date, end_date, )\n",
        "        node = date_node[i][1]\n",
        "        time_graph.add_node(node)\n",
        "        time_reverse_graph.add_node(node)\n",
        "        if node not in graph.nodes():\n",
        "            continue\n",
        "        for e in graph.neighbors(node):\n",
        "            if time_graph.has_node(e):\n",
        "                time_graph.add_edge(node, e)\n",
        "                time_reverse_graph.add_edge(e, node)\n",
        "\n",
        "        for e in reverse_graph.neighbors(node):\n",
        "            if time_graph.has_node(e):\n",
        "                time_graph.add_edge(e, node)\n",
        "                time_reverse_graph.add_edge(node, e)\n",
        "\n",
        "def add_bidirectional_edges(start_date, end_date):\n",
        "    start_idx = lower_bound(start_date)\n",
        "\n",
        "    for i in range(start_idx, len(date_node)):\n",
        "        if(date_node[i][0] > end_date):\n",
        "            break\n",
        "        # print(start_date, end_date, )\n",
        "        node = date_node[i][1]\n",
        "        time_graph.add_node(node)\n",
        "        time_reverse_graph.add_node(node)\n",
        "        for e in graph.neighbors(node):\n",
        "            if time_graph.has_node(e):\n",
        "                time_graph.add_edge(node, e)\n",
        "\n",
        "        for e in reverse_graph.neighbors(node):\n",
        "            if time_graph.has_node(e):\n",
        "                time_graph.add_edge(e, node)\n"
      ],
      "metadata": {
        "id": "KuM7_K3pS6GO"
      },
      "execution_count": 9,
      "outputs": []
    },
    {
      "cell_type": "code",
      "source": [
        "og_graph = graph.copy()\n",
        "global_community = {node:{node} for node in graph.nodes()}\n",
        "edges = {(a, b): 1 for a, b in graph.edges()}\n",
        "\n",
        "cnt = 0\n",
        "while True:\n",
        "    # if cnt > 300:\n",
        "    #     break\n",
        "    cnt +=1\n",
        "    community = {node:node for node in graph.nodes()}\n",
        "    communities = {node:{node} for node in graph.nodes()}\n",
        "    Q = 0\n",
        "    m = sum(edges.values())\n",
        "\n",
        "    indeg = {node:0 for node in graph.nodes()}\n",
        "    outdeg = {node:0 for node in graph.nodes()}\n",
        "\n",
        "    if m == 0:\n",
        "        break\n",
        "\n",
        "    for p in edges:\n",
        "\n",
        "        indeg[p[0]] += edges[p]\n",
        "        outdeg[p[1]] += edges[p]\n",
        "\n",
        "    for node in graph.nodes():\n",
        "        if((node, node) in edges):\n",
        "            Q += edges[(node, node)]\n",
        "        Q -= indeg[node] * outdeg[node] / m\n",
        "    Q /= m\n",
        "\n",
        "    print(\"Iteration:\", cnt, Q)\n",
        "\n",
        "    prev_Q = Q\n",
        "    cnt2 = 0\n",
        "    for node in graph.nodes():\n",
        "        cnt2 += 1\n",
        "        max_del = 0\n",
        "        best_com = 0\n",
        "        proc = set()\n",
        "        for node2 in set(graph.successors(node)) | set(graph.predecessors(node)):\n",
        "            if community[node] == community[node2] or community[node2] in proc:\n",
        "                continue\n",
        "            proc.add(community[node2])\n",
        "            delta = 0\n",
        "            for x in communities[community[node2]]:\n",
        "                if((node, x) in edges):\n",
        "                    delta += edges[(node, x)]\n",
        "                if((x, node) in edges):\n",
        "                    delta += edges[(x, node)]\n",
        "                delta -= indeg[x] * outdeg[node] / m\n",
        "                delta -= indeg[node] * outdeg[x] / m\n",
        "            for x in communities[community[node]]:\n",
        "                if((node, x) in edges):\n",
        "                    delta -= edges[(node, x)]\n",
        "                if((x, node) in edges):\n",
        "                    delta -= edges[(x, node)]\n",
        "                if x != node:\n",
        "                    delta += indeg[x] * outdeg[node] / m\n",
        "                    delta += indeg[node] * outdeg[x] / m\n",
        "            delta /= m\n",
        "            if delta > max_del:\n",
        "                max_del = delta\n",
        "                best_com = community[node2]\n",
        "        if cnt2 % 1000 == 0:\n",
        "            print(cnt2, node, max_del)\n",
        "        if max_del > 0:\n",
        "            communities[community[node]].remove(node)\n",
        "            if len(communities[community[node]]) == 0:\n",
        "                del communities[community[node]]\n",
        "            communities[best_com].add(node)\n",
        "            community[node] = best_com\n",
        "            Q += max_del\n",
        "\n",
        "    if Q == prev_Q:\n",
        "        break\n",
        "\n",
        "    new_graph = nx.DiGraph()\n",
        "    edges = {}\n",
        "\n",
        "    for com in communities:\n",
        "        new_graph.add_node(com)\n",
        "    for com in communities:\n",
        "        for node in communities[com]:\n",
        "            for node2 in graph.successors(node):\n",
        "                # if community[node] != community[node2]:\n",
        "                if new_graph.has_edge(community[node], community[node2]):\n",
        "                    edges[(community[node], community[node2])] += 1\n",
        "                else:\n",
        "                    edges[(community[node], community[node2])] = 1\n",
        "                    new_graph.add_edge(community[node], community[node2])\n",
        "    global_comm2 = {}\n",
        "    for com in communities:\n",
        "        curr = set()\n",
        "        for node in communities[com]:\n",
        "            curr = curr.union(global_community[node])\n",
        "        global_comm2[com] = curr\n",
        "    global_community = global_comm2\n",
        "    graph = new_graph\n",
        "\n",
        "graph = og_graph.copy()\n",
        "\n",
        "# global_community\n"
      ],
      "metadata": {
        "colab": {
          "base_uri": "https://localhost:8080/"
        },
        "id": "K_0Hdgx0__d2",
        "outputId": "647b8dc1-ed19-4e45-92b5-a9cdf249acfc"
      },
      "execution_count": null,
      "outputs": [
        {
          "output_type": "stream",
          "name": "stdout",
          "text": [
            "Iteration: 1 6.751202578776872e-05\n",
            "1000 4053 2.371320085116629e-06\n",
            "2000 7126 2.3712300599146793e-06\n",
            "3000 10087 9.208109623387552e-06\n",
            "4000 12357 4.741886209166926e-06\n",
            "5000 103299 4.7253103188578655e-06\n",
            "6000 106300 0\n",
            "7000 110067 4.735100559569939e-06\n",
            "8000 112219 2.371201927039069e-06\n",
            "9000 204018 2.3709881171844383e-06\n",
            "10000 207020 4.487486241606212e-05\n",
            "11000 210015 3.782912438406503e-05\n",
            "12000 212126 1.2080633767211079e-05\n",
            "13000 9207258 2.371939008380036e-06\n",
            "14000 9306289 9.461412408799498e-06\n",
            "15000 9401284 2.2506300487536632e-11\n",
            "16000 9406423 3.95361428774168e-06\n",
            "17000 9411395 4.732298525159242e-06\n",
            "18000 9504283 4.7434222641752e-06\n",
            "19000 9508293 3.693331173233531e-05\n",
            "20000 9512360 6.898209232301376e-06\n",
            "21000 9605215 4.743427890750322e-06\n",
            "22000 9608402 4.743456023625931e-06\n",
            "23000 9612201 2.371837730027842e-06\n",
            "24000 9704202 4.683319188723267e-06\n",
            "25000 9707336 2.1177641038241976e-06\n",
            "26000 9710400 4.7005815211972025e-06\n",
            "27000 9801392 4.743731725806903e-06\n",
            "28000 9805337 3.7653440202459425e-05\n",
            "29000 9808326 7.109582779905064e-06\n",
            "30000 9811303 1.6590114290968713e-05\n",
            "31000 9902410 2.9359620903501893e-05\n",
            "32000 9905481 0.00015825494803383338\n",
            "33000 9908390 2.0738396824777218e-05\n",
            "34000 9911342 3.930668551737143e-05\n",
            "Iteration: 2 0.34864591202992706\n",
            "1000 107204 1.6375933082379203e-05\n",
            "2000 207082 2.0784664152004446e-05\n",
            "3000 9212275 1.3883686644743113e-05\n",
            "4000 9504417 9.42922839910234e-06\n",
            "5000 9611209 0\n",
            "6000 9804444 4.736681627179186e-06\n",
            "7000 9906449 2.3601682132250614e-06\n",
            "Iteration: 3 0.2316083360083439\n",
            "1000 9411412 0\n",
            "Iteration: 4 0.1601598167468293\n",
            "1000 9810511 6.085528010314746e-05\n",
            "Iteration: 5 0.19657615679885126\n",
            "Iteration: 6 0.1993098566710188\n",
            "Iteration: 7 0.2313210417470658\n",
            "Iteration: 8 0.2709965731552713\n",
            "Iteration: 9 0.2847322729509924\n",
            "Iteration: 10 0.2768455438352826\n"
          ]
        }
      ]
    },
    {
      "cell_type": "code",
      "source": [
        "len(global_community)"
      ],
      "metadata": {
        "colab": {
          "base_uri": "https://localhost:8080/"
        },
        "id": "PDK59MY7hUm4",
        "outputId": "e96ad47e-08f6-4183-f82b-1a50d6174768"
      },
      "execution_count": null,
      "outputs": [
        {
          "output_type": "execute_result",
          "data": {
            "text/plain": [
              "503"
            ]
          },
          "metadata": {},
          "execution_count": 9
        }
      ]
    },
    {
      "cell_type": "code",
      "source": [
        "def modularity(graph, communities):\n",
        "    community = {}\n",
        "    for com in communities:\n",
        "        for node in communities[com]:\n",
        "            community[node] = com\n",
        "    m = graph.number_of_edges()\n",
        "    Q = 0\n",
        "    indeg = {node: graph.in_degree(node) for node in graph.nodes()}\n",
        "    outdeg = {node: graph.out_degree(node) for node in graph.nodes()}\n",
        "\n",
        "    for node in graph.nodes():\n",
        "        for node2 in set(graph.successors(node)):\n",
        "            if community[node] == community[node2]:\n",
        "                Q += 1\n",
        "\n",
        "    for com in communities:\n",
        "        tot_out = sum(outdeg[node] for node in communities[com])\n",
        "        tot_in = sum(indeg[node] for node in communities[com])\n",
        "\n",
        "        Q -= indeg[node] * tot_out / m\n",
        "\n",
        "    return Q/m"
      ],
      "metadata": {
        "id": "kLKKS9i5T_4y"
      },
      "execution_count": 11,
      "outputs": []
    },
    {
      "cell_type": "code",
      "source": [
        "modularity(graph, global_community)"
      ],
      "metadata": {
        "colab": {
          "base_uri": "https://localhost:8080/"
        },
        "id": "MJEl1A2uVFp8",
        "outputId": "86c1cebc-391c-4d1e-8161-ea2762267c5e"
      },
      "execution_count": null,
      "outputs": [
        {
          "output_type": "execute_result",
          "data": {
            "text/plain": [
              "0.8241440492625327"
            ]
          },
          "metadata": {},
          "execution_count": 11
        }
      ]
    },
    {
      "cell_type": "code",
      "source": [
        "time_graph = nx.DiGraph()\n",
        "\n",
        "published_year = tuple(str(year) for year in range(1992, 2003))\n",
        "modularity_scores = [0 for _ in range(11)]\n",
        "com_sizes = [[] for _ in range(11)]\n",
        "max_size = [0 for _ in range(11)]\n",
        "num_coms = [0 for _ in range(11)]\n",
        "\n",
        "for i in range(1992, 2003):\n",
        "    print(\"************************************\")\n",
        "    print(i)\n",
        "    add_edges(str(i)+'-01-01', str(i)+'-12-31')\n",
        "    og_graph = time_graph.copy()\n",
        "    global_community = {node:{node} for node in time_graph.nodes()}\n",
        "    edges = {(a, b): 1 for a, b in time_graph.edges()}\n",
        "\n",
        "    cnt = 0\n",
        "    while True:\n",
        "        # if cnt > 300:\n",
        "        #     break\n",
        "        cnt +=1\n",
        "        community = {node:node for node in time_graph.nodes()}\n",
        "        communities = {node:{node} for node in time_graph.nodes()}\n",
        "        Q = 0\n",
        "        m = sum(edges.values())\n",
        "\n",
        "        indeg = {node:0 for node in time_graph.nodes()}\n",
        "        outdeg = {node:0 for node in time_graph.nodes()}\n",
        "\n",
        "        if m == 0:\n",
        "            break\n",
        "\n",
        "        for p in edges:\n",
        "\n",
        "            indeg[p[0]] += edges[p]\n",
        "            outdeg[p[1]] += edges[p]\n",
        "\n",
        "        for node in time_graph.nodes():\n",
        "            if((node, node) in edges):\n",
        "                Q += edges[(node, node)]\n",
        "            Q -= indeg[node] * outdeg[node] / m\n",
        "        Q /= m\n",
        "\n",
        "        print(\"Iteration:\", cnt, Q)\n",
        "\n",
        "        prev_Q = Q\n",
        "        cnt2 = 0\n",
        "        for node in time_graph.nodes():\n",
        "            cnt2 += 1\n",
        "            max_del = 0\n",
        "            best_com = 0\n",
        "            proc = set()\n",
        "            for node2 in set(time_graph.successors(node)) | set(time_graph.predecessors(node)):\n",
        "                if community[node] == community[node2] or community[node2] in proc:\n",
        "                    continue\n",
        "                proc.add(community[node2])\n",
        "                delta = 0\n",
        "                for x in communities[community[node2]]:\n",
        "                    if((node, x) in edges):\n",
        "                        delta += edges[(node, x)]\n",
        "                    if((x, node) in edges):\n",
        "                        delta += edges[(x, node)]\n",
        "                    delta -= indeg[x] * outdeg[node] / m\n",
        "                    delta -= indeg[node] * outdeg[x] / m\n",
        "                for x in communities[community[node]]:\n",
        "                    if((node, x) in edges):\n",
        "                        delta -= edges[(node, x)]\n",
        "                    if((x, node) in edges):\n",
        "                        delta -= edges[(x, node)]\n",
        "                    if x != node:\n",
        "                        delta += indeg[x] * outdeg[node] / m\n",
        "                        delta += indeg[node] * outdeg[x] / m\n",
        "                delta /= m\n",
        "                if delta > max_del:\n",
        "                    max_del = delta\n",
        "                    best_com = community[node2]\n",
        "            if cnt2 % 1000 == 0:\n",
        "                print(cnt2, node, max_del)\n",
        "            if max_del > 0:\n",
        "                communities[community[node]].remove(node)\n",
        "                if len(communities[community[node]]) == 0:\n",
        "                    del communities[community[node]]\n",
        "                communities[best_com].add(node)\n",
        "                community[node] = best_com\n",
        "                Q += max_del\n",
        "\n",
        "        if Q == prev_Q:\n",
        "            break\n",
        "\n",
        "        new_graph = nx.DiGraph()\n",
        "        edges = {}\n",
        "\n",
        "        for com in communities:\n",
        "            new_graph.add_node(com)\n",
        "        for com in communities:\n",
        "            for node in communities[com]:\n",
        "                for node2 in time_graph.successors(node):\n",
        "                    # if community[node] != community[node2]:\n",
        "                    if new_graph.has_edge(community[node], community[node2]):\n",
        "                        edges[(community[node], community[node2])] += 1\n",
        "                    else:\n",
        "                        edges[(community[node], community[node2])] = 1\n",
        "                        new_graph.add_edge(community[node], community[node2])\n",
        "        global_comm2 = {}\n",
        "        for com in communities:\n",
        "            curr = set()\n",
        "            for node in communities[com]:\n",
        "                curr = curr.union(global_community[node])\n",
        "            global_comm2[com] = curr\n",
        "        global_community = global_comm2\n",
        "        time_graph = new_graph\n",
        "\n",
        "    time_graph = og_graph.copy()\n",
        "\n",
        "    com_sizes[i-1992] = [len(com) for com in global_community.values()]\n",
        "    com_sizes[i-1992].sort(reverse=True)\n",
        "    max_size[i-1992] = com_sizes[i-1992][0]\n",
        "    num_coms[i-1992] = len(global_community)\n",
        "    modularity_scores[i-1992] = modularity(time_graph, global_community)\n"
      ],
      "metadata": {
        "colab": {
          "base_uri": "https://localhost:8080/"
        },
        "id": "ebjkn41HTFW7",
        "outputId": "3e09bf45-3c79-47bb-e215-14898ba0f83b"
      },
      "execution_count": null,
      "outputs": [
        {
          "output_type": "stream",
          "name": "stdout",
          "text": [
            "************************************\n",
            "1992\n",
            "Iteration: 1 -0.0008223684210526315\n",
            "Iteration: 2 0.723424515235457\n",
            "************************************\n",
            "1993\n",
            "Iteration: 1 0.001152600327870293\n",
            "1000 9305214 0\n",
            "2000 9312226 0\n",
            "Iteration: 2 0.37914580851964647\n",
            "1000 9311293 0\n",
            "Iteration: 3 0.32531672240292214\n",
            "1000 9312227 0\n",
            "Iteration: 4 0.3509749413942054\n",
            "1000 9312283 0\n",
            "Iteration: 5 0.3570110722093671\n",
            "1000 9312319 0\n",
            "Iteration: 6 0.3667171332283355\n",
            "1000 9312360 0\n",
            "Iteration: 7 0.380897880703316\n",
            "Iteration: 8 0.37897380248781537\n",
            "Iteration: 9 0.36645310527954794\n",
            "Iteration: 10 0.3819577237525983\n",
            "Iteration: 11 0.38264998180342014\n",
            "Iteration: 12 0.38987617848301753\n",
            "Iteration: 13 0.3867524482696216\n",
            "************************************\n",
            "1994\n",
            "Iteration: 1 0.00035917061014078644\n",
            "1000 9305214 0\n",
            "2000 9312226 8.786573843314204e-05\n",
            "3000 9406216 0\n",
            "4000 9410400 0.0001755770148140152\n",
            "Iteration: 2 0.26740365454589954\n",
            "1000 9404340 0\n",
            "2000 9412362 0\n",
            "Iteration: 3 0.3060525458153102\n",
            "1000 9407265 0.00012759286037216728\n",
            "Iteration: 4 0.312924587257617\n",
            "1000 9409211 0\n",
            "Iteration: 5 0.33267419393793257\n",
            "1000 9410210 0.00030664797148313656\n",
            "Iteration: 6 0.33935177807610656\n",
            "1000 9410375 0\n",
            "Iteration: 7 0.3397494707666666\n",
            "1000 9411287 0.00026321657785864893\n",
            "Iteration: 8 0.35386687588133253\n",
            "1000 9411389 0\n",
            "Iteration: 9 0.3682601927531993\n",
            "1000 9411443 0\n",
            "Iteration: 10 0.3523998705971461\n",
            "1000 9412211 0\n",
            "Iteration: 11 0.36284786201985225\n",
            "1000 9412230 0\n",
            "************************************\n",
            "1995\n",
            "Iteration: 1 0.0001139415627343723\n",
            "1000 9305214 3.3545789852335316e-05\n",
            "2000 9312226 3.354128796817074e-05\n",
            "3000 9406216 3.354691532337646e-05\n",
            "4000 9410400 6.699704013721455e-05\n",
            "5000 9503378 0\n",
            "6000 9507360 0\n",
            "7000 9511437 0.0001004978111479041\n",
            "Iteration: 2 0.2513849078727206\n",
            "1000 9407358 0.00013312184021754258\n",
            "2000 9506295 0\n",
            "Iteration: 3 0.27584978402590044\n",
            "1000 9502275 0\n",
            "Iteration: 4 0.273379585345789\n",
            "1000 9507203 0.00020978075890039615\n",
            "Iteration: 5 0.2597869059714469\n",
            "1000 9509415 0\n",
            "Iteration: 6 0.28615774786756787\n",
            "1000 9512204 0\n",
            "Iteration: 7 0.29846183850570523\n",
            "Iteration: 8 0.31716410933594985\n",
            "Iteration: 9 0.33284067632625564\n",
            "Iteration: 10 0.32546541883575364\n",
            "************************************\n",
            "1996\n",
            "Iteration: 1 0.00014005938672242516\n",
            "1000 9305214 1.6969573535068575e-05\n",
            "2000 9312226 1.6967845619222833e-05\n",
            "3000 9406216 1.6969861521042866e-05\n",
            "4000 9410400 1.695402229245689e-05\n",
            "5000 9503378 1.6958630068045537e-05\n",
            "6000 9507360 0\n",
            "7000 9511437 0\n",
            "8000 9604265 3.3809841367680714e-05\n",
            "9000 9607488 3.3901708893479385e-05\n",
            "10000 9611263 3.392445978544834e-05\n",
            "Iteration: 2 0.2722411290758094\n",
            "1000 9409322 0\n",
            "2000 9510206 0\n",
            "3000 9608309 0\n",
            "Iteration: 3 0.26924568865023674\n",
            "1000 9508232 0\n",
            "Iteration: 4 0.23622850232541254\n",
            "1000 9605449 0\n",
            "Iteration: 5 0.2500218051204026\n",
            "1000 9612221 0\n",
            "Iteration: 6 0.2562947427540338\n",
            "Iteration: 7 0.27516484660077223\n",
            "Iteration: 8 0.2920376734184335\n",
            "Iteration: 9 0.294757321193438\n",
            "Iteration: 10 0.2894320424542795\n",
            "************************************\n",
            "1997\n",
            "Iteration: 1 0.0001045876607657174\n",
            "1000 9305214 1.0172008662341232e-05\n",
            "2000 9312226 1.0171180870577855e-05\n",
            "3000 9406216 1.0172112136311653e-05\n",
            "4000 9410400 2.029931656946013e-05\n",
            "5000 9503378 1.0167559281613083e-05\n",
            "6000 9507360 0\n",
            "7000 9511437 3.049367560941253e-05\n",
            "8000 9604265 2.028141557257711e-05\n",
            "9000 9607488 2.029145254770805e-05\n",
            "10000 9611263 1.0166110646027173e-05\n",
            "11000 9703267 1.0170042656903211e-05\n",
            "12000 9706492 2.0110993943291965e-05\n",
            "13000 9710202 0\n",
            "14000 9712538 2.029735056402211e-05\n",
            "Iteration: 2 0.29373201501912083\n",
            "1000 9410361 8.936901961795276e-05\n",
            "2000 9512271 4.0556726180899324e-05\n",
            "3000 9612407 0\n",
            "4000 9711294 9.935881061838076e-06\n",
            "Iteration: 3 0.2593417130304817\n",
            "1000 9601364 0\n",
            "Iteration: 4 0.21357150420264037\n",
            "1000 9705438 0.00021456348016626092\n",
            "Iteration: 5 0.20889008010596488\n",
            "Iteration: 6 0.23848136601159992\n",
            "Iteration: 7 0.2688098778495222\n",
            "Iteration: 8 0.2894078492793902\n",
            "Iteration: 9 0.29288840556647494\n",
            "Iteration: 10 0.30276307253177087\n",
            "Iteration: 11 0.2985271631486176\n",
            "************************************\n",
            "1998\n",
            "Iteration: 1 8.926018320704514e-05\n",
            "1000 9305214 6.996138130381504e-06\n",
            "2000 9312226 6.995599709877809e-06\n",
            "3000 9406216 6.9961870777000215e-06\n",
            "4000 9410400 1.3970152072792977e-05\n",
            "5000 9503378 6.993054449314886e-06\n",
            "6000 9507360 0\n",
            "7000 9511437 2.097534545710027e-05\n",
            "8000 9604265 2.0288418789021924e-05\n",
            "9000 9607488 1.394665735990445e-05\n",
            "10000 9611263 6.993348133225992e-06\n",
            "11000 9703267 6.992613923448225e-06\n",
            "12000 9706492 6.978419201078072e-06\n",
            "13000 9710202 0\n",
            "14000 9712538 1.3945629466215577e-05\n",
            "15000 9804407 1.0219808527961647e-05\n",
            "16000 9807502 3.3074779963462694e-05\n",
            "17000 9810458 6.680476873260425e-06\n",
            "Iteration: 2 0.3166372536812859\n",
            "1000 9411348 1.3981654692644655e-05\n",
            "2000 9601381 1.3672846060116061e-05\n",
            "3000 9703384 1.3351409019409887e-05\n",
            "4000 9804394 6.994718658144489e-06\n",
            "Iteration: 3 0.25113450105229956\n",
            "1000 9607468 6.739804029483723e-05\n",
            "Iteration: 4 0.18556320875794038\n",
            "1000 9805214 0\n",
            "Iteration: 5 0.20692463728352592\n",
            "Iteration: 6 0.24447541513717685\n",
            "Iteration: 7 0.28848395005963556\n",
            "Iteration: 8 0.2997528798786579\n",
            "Iteration: 9 0.314470674687068\n",
            "Iteration: 10 0.3180039483790543\n",
            "************************************\n",
            "1999\n",
            "Iteration: 1 6.966128510434708e-05\n",
            "1000 9305214 4.967660529459655e-06\n",
            "2000 9312226 4.967290357337021e-06\n",
            "3000 9406216 4.967685207601163e-06\n",
            "4000 9410400 9.923672976127107e-06\n",
            "5000 9503378 4.966599369374772e-06\n",
            "6000 9507360 0\n",
            "7000 9511437 1.4894023423011232e-05\n",
            "8000 9604265 1.9321676859972998e-05\n",
            "9000 9607488 9.908767378655729e-06\n",
            "10000 9611263 4.965636921855924e-06\n",
            "11000 9703267 4.96460043991255e-06\n",
            "12000 9706492 9.741943142055526e-06\n",
            "13000 9710202 1.2339070754467173e-10\n",
            "14000 9712538 9.902622521420009e-06\n",
            "15000 9804407 9.92046481773095e-06\n",
            "16000 9807502 5.0978475971757314e-05\n",
            "17000 9810458 4.712192408559462e-06\n",
            "18000 9902214 1.937917692968877e-05\n",
            "19000 9905285 9.934482002108004e-06\n",
            "20000 9907570 9.919230910655501e-06\n",
            "21000 9910505 0\n",
            "Iteration: 2 0.32554350630489276\n",
            "1000 9412229 4.4703712999136815e-06\n",
            "2000 9602413 0\n",
            "3000 9705308 4.9176181941078934e-05\n",
            "4000 9807314 4.967117610346458e-06\n",
            "5000 9907533 0\n",
            "Iteration: 3 0.24549807756294256\n",
            "1000 9611381 5.329391466242442e-05\n",
            "Iteration: 4 0.18920915834754426\n",
            "1000 9903429 0\n",
            "Iteration: 5 0.18800397301384192\n",
            "Iteration: 6 0.2253481716221419\n",
            "Iteration: 7 0.27900635199527135\n",
            "Iteration: 8 0.31604126183102155\n",
            "Iteration: 9 0.3029551880186275\n",
            "************************************\n",
            "2000\n",
            "Iteration: 1 6.232612154014535e-05\n",
            "1000 9305214 3.7731008094925706e-06\n",
            "2000 9312226 3.7728872619238336e-06\n",
            "3000 9406216 3.773115045997153e-06\n",
            "4000 9410400 7.540563963170482e-06\n",
            "5000 9503378 3.7722750922267877e-06\n",
            "6000 9507360 0\n",
            "7000 9511437 1.1313921029745537e-05\n",
            "8000 9604265 1.4734682587326515e-05\n",
            "9000 9607488 7.529174759504504e-06\n",
            "10000 9611263 3.771862233593895e-06\n",
            "11000 9703267 3.7712785369060142e-06\n",
            "12000 9706492 7.4125208409557276e-06\n",
            "13000 9710202 7.118252291243285e-11\n",
            "14000 9712538 7.522298527791171e-06\n",
            "15000 9804407 7.535851680153683e-06\n",
            "16000 9807502 3.907706960319847e-05\n",
            "17000 9810458 3.5596671327921467e-06\n",
            "18000 9902214 1.4697881222980825e-05\n",
            "19000 9905285 7.544151562325266e-06\n",
            "20000 9907570 7.525060409680169e-06\n",
            "21000 9910505 0\n",
            "22000 1227 0\n",
            "23000 4202 0\n",
            "24000 7268 4.0974368568904425e-05\n",
            "25000 10230 1.8727893994168694e-05\n",
            "Iteration: 2 0.342044542289916\n",
            "1000 9412380 3.301603437876137e-05\n",
            "2000 9603436 5.057276232345299e-06\n",
            "3000 9706533 0\n",
            "4000 9809519 2.6383147238255555e-05\n",
            "5000 9912437 0\n",
            "Iteration: 3 0.24518421530246623\n",
            "1000 9706528 1.5486058723833752e-05\n",
            "Iteration: 4 0.17041580815180668\n",
            "1000 2299 0.0001905161936872589\n",
            "Iteration: 5 0.19067833231691525\n",
            "Iteration: 6 0.20813522569716975\n",
            "Iteration: 7 0.25040624300575287\n",
            "Iteration: 8 0.2825201756973557\n",
            "Iteration: 9 0.3031360034422185\n",
            "Iteration: 10 0.2993408915281849\n",
            "Iteration: 11 0.2920654187897881\n",
            "************************************\n",
            "2001\n",
            "Iteration: 1 6.616448004948183e-05\n",
            "1000 9305214 2.99353695360962e-06\n",
            "2000 9312226 2.993393571676857e-06\n",
            "3000 9406216 2.9935459149804183e-06\n",
            "4000 9410400 5.983525204383341e-06\n",
            "5000 9503378 2.993330842081273e-06\n",
            "6000 9507360 0\n",
            "7000 9511437 8.976999428397377e-06\n",
            "8000 9604265 1.1732594064585771e-05\n",
            "9000 9607488 5.975280743249432e-06\n",
            "10000 9611263 2.9927573143502184e-06\n",
            "11000 9703267 2.9921031342819843e-06\n",
            "12000 9706492 5.884045027157783e-06\n",
            "13000 9710202 4.480685398836075e-11\n",
            "14000 9712538 5.9693931226353274e-06\n",
            "15000 9804407 7.369338468656093e-06\n",
            "16000 9807502 3.12294183634002e-05\n",
            "17000 9810458 2.846516704302125e-06\n",
            "18000 9902214 1.1699804408836895e-05\n",
            "19000 9905285 5.985478783217246e-06\n",
            "20000 9907570 5.9699039207707975e-06\n",
            "21000 9910505 0\n",
            "22000 1227 5.984537839283484e-06\n",
            "23000 4202 0\n",
            "24000 7268 3.2476590260061395e-05\n",
            "25000 10230 1.4818728862648302e-05\n",
            "26000 101176 8.964238436381415e-06\n",
            "27000 104095 4.420511586230496e-05\n",
            "28000 107085 5.986733375128927e-06\n",
            "29000 110210 1.1806408875846651e-05\n",
            "Iteration: 2 0.3607146407131985\n",
            "1000 9501259 1.789895811735512e-05\n",
            "2000 9604365 5.35729565166744e-06\n",
            "3000 9708271 0\n",
            "4000 9811512 0\n",
            "5000 5010 5.894592560586706e-06\n",
            "6000 109116 1.1290699909179077e-06\n",
            "Iteration: 3 0.24304689283696138\n",
            "1000 9709462 0\n",
            "Iteration: 4 0.16760626216708943\n",
            "1000 101228 0\n",
            "Iteration: 5 0.16434450164108144\n",
            "Iteration: 6 0.20474976851656013\n",
            "Iteration: 7 0.24216924323896127\n",
            "Iteration: 8 0.27587350641423286\n",
            "Iteration: 9 0.29085671422643644\n",
            "Iteration: 10 0.29628621993580545\n",
            "************************************\n",
            "2002\n",
            "Iteration: 1 7.15687919401013e-05\n",
            "1000 9305214 2.8791146145782312e-06\n",
            "2000 9312226 2.878981984235373e-06\n",
            "3000 9406216 2.8791146145782312e-06\n",
            "4000 9410400 5.753918743013568e-06\n",
            "5000 9503378 2.878923958460372e-06\n",
            "6000 9507360 2.879098035785374e-06\n",
            "7000 9511437 8.63400321697395e-06\n",
            "8000 9604265 1.1295587490471747e-05\n",
            "9000 9607488 5.747320383456369e-06\n",
            "10000 9611263 2.878393437088939e-06\n",
            "11000 9703267 2.877788311149648e-06\n",
            "12000 9706492 5.661417368266348e-06\n",
            "13000 9710202 4.144698214351083e-11\n",
            "14000 9712538 5.741526095352746e-06\n",
            "15000 9804407 7.043931194031757e-06\n",
            "16000 9807502 3.0108322948897154e-05\n",
            "17000 9810458 2.7397367030270378e-06\n",
            "18000 9902214 1.1256254304417837e-05\n",
            "19000 9905285 5.7567205590064485e-06\n",
            "20000 9907570 5.742098063706324e-06\n",
            "21000 9910505 0\n",
            "22000 1227 5.755817014795727e-06\n",
            "23000 4202 0\n",
            "24000 7268 3.115968367673471e-05\n",
            "25000 10230 1.4243537252993437e-05\n",
            "26000 101176 8.614987341566643e-06\n",
            "27000 104095 4.816565400017685e-05\n",
            "28000 107085 5.757914232092173e-06\n",
            "29000 110210 1.1324683271936288e-05\n",
            "30000 201122 5.756969240899309e-06\n",
            "Iteration: 2 0.36129433540905065\n",
            "1000 9501299 0\n",
            "2000 9604422 4.0209308941244393e-05\n",
            "3000 9708319 0\n",
            "4000 9812264 2.8262365547599215e-06\n",
            "5000 5161 2.8788493538925144e-06\n",
            "6000 110041 1.6810373725311853e-05\n",
            "Iteration: 3 0.2423627518490987\n",
            "1000 9711335 0.0002079588941520032\n",
            "Iteration: 4 0.15463603461321276\n",
            "1000 103193 0\n",
            "Iteration: 5 0.16812175679150698\n",
            "Iteration: 6 0.22720655154702726\n",
            "Iteration: 7 0.25874283536944215\n",
            "Iteration: 8 0.2967221670180035\n",
            "Iteration: 9 0.29142060226235705\n"
          ]
        }
      ]
    },
    {
      "cell_type": "code",
      "source": [
        "fig, ax = plt.subplots()\n",
        "bar_container = ax.bar(published_year, modularity_scores, width=0.5)\n",
        "ax.set(xlabel='Year', ylabel='Modularity', title='Modularity scores of communities by year')\n",
        "ax.bar_label(bar_container, fmt='{:,.3f}')"
      ],
      "metadata": {
        "colab": {
          "base_uri": "https://localhost:8080/",
          "height": 663
        },
        "id": "TWYKKbGqVViZ",
        "outputId": "99fde0b3-dc07-4ed5-dd9a-adb73c72b45e"
      },
      "execution_count": null,
      "outputs": [
        {
          "output_type": "execute_result",
          "data": {
            "text/plain": [
              "[Text(0, 0, '0.743'),\n",
              " Text(0, 0, '0.713'),\n",
              " Text(0, 0, '0.843'),\n",
              " Text(0, 0, '0.850'),\n",
              " Text(0, 0, '0.810'),\n",
              " Text(0, 0, '0.812'),\n",
              " Text(0, 0, '0.837'),\n",
              " Text(0, 0, '0.817'),\n",
              " Text(0, 0, '0.808'),\n",
              " Text(0, 0, '0.805'),\n",
              " Text(0, 0, '0.832')]"
            ]
          },
          "metadata": {},
          "execution_count": 26
        },
        {
          "output_type": "display_data",
          "data": {
            "text/plain": [
              "<Figure size 640x480 with 1 Axes>"
            ],
            "image/png": "[encoded data removed]"
          },
          "metadata": {}
        }
      ]
    },
    {
      "cell_type": "code",
      "source": [
        "fig, ax = plt.subplots()\n",
        "bar_container = ax.bar(published_year, num_coms, width=0.5)\n",
        "ax.set(xlabel='Year', ylabel='Number of communities', title='Number of communities by year')\n",
        "ax.bar_label(bar_container)"
      ],
      "metadata": {
        "colab": {
          "base_uri": "https://localhost:8080/",
          "height": 663
        },
        "id": "ENOtvF1nWVg4",
        "outputId": "7e95cdc7-a8f9-4098-f4d4-cef6afbff2a3"
      },
      "execution_count": null,
      "outputs": [
        {
          "output_type": "execute_result",
          "data": {
            "text/plain": [
              "[Text(0, 0, '470'),\n",
              " Text(0, 0, '960'),\n",
              " Text(0, 0, '1065'),\n",
              " Text(0, 0, '933'),\n",
              " Text(0, 0, '810'),\n",
              " Text(0, 0, '705'),\n",
              " Text(0, 0, '645'),\n",
              " Text(0, 0, '604'),\n",
              " Text(0, 0, '592'),\n",
              " Text(0, 0, '551'),\n",
              " Text(0, 0, '543')]"
            ]
          },
          "metadata": {},
          "execution_count": 27
        },
        {
          "output_type": "display_data",
          "data": {
            "text/plain": [
              "<Figure size 640x480 with 1 Axes>"
            ],
            "image/png": "[encoded data removed]"
          },
          "metadata": {}
        }
      ]
    },
    {
      "cell_type": "code",
      "source": [
        "time_graph = nx.DiGraph()\n",
        "\n",
        "y_val = [0 for _ in range(11)]\n",
        "x_val = [i + 1992 for i in range(11)]\n",
        "\n",
        "for i in range(1992, 2003):\n",
        "    add_edges(str(i)+'-01-01', str(i)+'-12-31')\n",
        "    y_val[i - 1992] = num_coms[i-1992]/nx.number_weakly_connected_components(time_graph)\n",
        "\n",
        "fig, axs = plt.subplots()\n",
        "# plt.subplots_adjust(wspace=0.5)\n",
        "ax = axs\n",
        "bar_container = ax.bar(x_val, y_val, width=0.5)\n",
        "ax.set(xlabel='Year', ylabel='Communities/Connected Components', title='Communities/Connected Components by year')\n",
        "ax.bar_label(bar_container, fmt='{:,.3f}')"
      ],
      "metadata": {
        "colab": {
          "base_uri": "https://localhost:8080/",
          "height": 663
        },
        "id": "S15IGcUjUXLT",
        "outputId": "2cd63388-a27e-4f0d-f8dc-332e3e8bf8ff"
      },
      "execution_count": null,
      "outputs": [
        {
          "output_type": "execute_result",
          "data": {
            "text/plain": [
              "[Text(0, 0, '1.047'),\n",
              " Text(0, 0, '1.387'),\n",
              " Text(0, 0, '1.602'),\n",
              " Text(0, 0, '1.747'),\n",
              " Text(0, 0, '1.947'),\n",
              " Text(0, 0, '2.149'),\n",
              " Text(0, 0, '2.271'),\n",
              " Text(0, 0, '2.426'),\n",
              " Text(0, 0, '3.005'),\n",
              " Text(0, 0, '3.936'),\n",
              " Text(0, 0, '4.525')]"
            ]
          },
          "metadata": {},
          "execution_count": 28
        },
        {
          "output_type": "display_data",
          "data": {
            "text/plain": [
              "<Figure size 640x480 with 1 Axes>"
            ],
            "image/png": "[encoded data removed]"
          },
          "metadata": {}
        }
      ]
    },
    {
      "cell_type": "code",
      "source": [
        "fig, ax = plt.subplots()\n",
        "bar_container = ax.bar(published_year, max_size, width=0.5)\n",
        "ax.set(xlabel='Year', ylabel='Number of nodes', title='Maximum sized community by year')\n",
        "ax.bar_label(bar_container)"
      ],
      "metadata": {
        "colab": {
          "base_uri": "https://localhost:8080/",
          "height": 663
        },
        "id": "zx5xhDI7Wj0m",
        "outputId": "d48bd606-5fcb-484b-82b8-5b5752d5ba97"
      },
      "execution_count": null,
      "outputs": [
        {
          "output_type": "execute_result",
          "data": {
            "text/plain": [
              "[Text(0, 0, '6'),\n",
              " Text(0, 0, '286'),\n",
              " Text(0, 0, '1281'),\n",
              " Text(0, 0, '1743'),\n",
              " Text(0, 0, '2136'),\n",
              " Text(0, 0, '4268'),\n",
              " Text(0, 0, '5916'),\n",
              " Text(0, 0, '5325'),\n",
              " Text(0, 0, '6770'),\n",
              " Text(0, 0, '9566'),\n",
              " Text(0, 0, '9446')]"
            ]
          },
          "metadata": {},
          "execution_count": 29
        },
        {
          "output_type": "display_data",
          "data": {
            "text/plain": [
              "<Figure size 640x480 with 1 Axes>"
            ],
            "image/png": "[encoded data removed]"
          },
          "metadata": {}
        }
      ]
    },
    {
      "cell_type": "code",
      "source": [
        "avg_coms = [0 for _ in range(11)]\n",
        "for i in range(11):\n",
        "    avg_coms[i] = sum(com_sizes[i])/len(com_sizes[i])\n",
        "fig, ax = plt.subplots()\n",
        "bar_container = ax.bar(published_year, avg_coms, width=0.5)\n",
        "ax.set(xlabel='Year', ylabel='Average community size', title='Average size of communities by year')\n",
        "ax.bar_label(bar_container)"
      ],
      "metadata": {
        "colab": {
          "base_uri": "https://localhost:8080/",
          "height": 663
        },
        "id": "C7sYyMNySY6l",
        "outputId": "9151c661-077d-471a-a363-a03773084047"
      },
      "execution_count": null,
      "outputs": [
        {
          "output_type": "execute_result",
          "data": {
            "text/plain": [
              "[Text(0, 0, '1.2383'),\n",
              " Text(0, 0, '2.20521'),\n",
              " Text(0, 0, '4.15117'),\n",
              " Text(0, 0, '7.7985'),\n",
              " Text(0, 0, '12.9395'),\n",
              " Text(0, 0, '19.8766'),\n",
              " Text(0, 0, '27.4977'),\n",
              " Text(0, 0, '35.9917'),\n",
              " Text(0, 0, '43.7382'),\n",
              " Text(0, 0, '54.225'),\n",
              " Text(0, 0, '73.0359')]"
            ]
          },
          "metadata": {},
          "execution_count": 16
        },
        {
          "output_type": "display_data",
          "data": {
            "text/plain": [
              "<Figure size 640x480 with 1 Axes>"
            ],
            "image/png": "[encoded data removed]"
          },
          "metadata": {}
        }
      ]
    },
    {
      "cell_type": "code",
      "source": [
        "com_size = [len(com) for com in global_community.values()]\n",
        "com_size.sort(reverse=True)\n",
        "com_size[:10]"
      ],
      "metadata": {
        "colab": {
          "base_uri": "https://localhost:8080/"
        },
        "id": "uHhEkaP6kVJU",
        "outputId": "682b9894-4fea-4598-882e-d362095e9644"
      },
      "execution_count": null,
      "outputs": [
        {
          "output_type": "execute_result",
          "data": {
            "text/plain": [
              "[11058, 5396, 4668, 2950, 2917, 2905, 2039, 1375, 13, 9]"
            ]
          },
          "metadata": {},
          "execution_count": 28
        }
      ]
    },
    {
      "cell_type": "code",
      "source": [
        "import json\n",
        "\n",
        "with open(\"node_id.json\", \"r\") as f:\n",
        "    node_to_id = json.load(f)\n",
        "\n",
        "len(node_to_id)"
      ],
      "metadata": {
        "colab": {
          "base_uri": "https://localhost:8080/"
        },
        "id": "JjXZ6eIX5r09",
        "outputId": "fafc6382-f0cd-4a71-abb3-d2162dac55ff"
      },
      "execution_count": null,
      "outputs": [
        {
          "output_type": "execute_result",
          "data": {
            "text/plain": [
              "19780"
            ]
          },
          "metadata": {},
          "execution_count": 10
        }
      ]
    },
    {
      "cell_type": "code",
      "source": [
        "L = [0 for _ in range(len(node_to_id))]\n",
        "for com in global_community:\n",
        "    for node in global_community[com]:\n",
        "        if str(node) in node_to_id:\n",
        "            L[node_to_id[str(node)]] = com\n",
        "            # print(node_to_id[str(node)], com)\n",
        "\n",
        "import io\n",
        "\n",
        "out_m = io.open(\"colours.tsv\", \"w\", encoding=\"utf-8\")\n",
        "\n",
        "for i in range(len(L)):\n",
        "    out_m.write(str(L[i]) + \"\\n\")\n",
        "out_m.close()"
      ],
      "metadata": {
        "id": "cb3Ravxc5_TG"
      },
      "execution_count": null,
      "outputs": []
    },
    {
      "cell_type": "code",
      "source": [
        "!pip install infomap"
      ],
      "metadata": {
        "colab": {
          "base_uri": "https://localhost:8080/"
        },
        "id": "j26Oz6LOXR3w",
        "outputId": "280ce988-19dd-4af2-e356-20cb44c6fda7"
      },
      "execution_count": 8,
      "outputs": [
        {
          "output_type": "stream",
          "name": "stdout",
          "text": [
            "Collecting infomap\n",
            "  Downloading infomap-2.8.0.tar.gz (264 kB)\n",
            "\u001b[?25l     \u001b[90m━━━━━━━━━━━━━━━━━━━━━━━━━━━━━━━━━━━━━━━━\u001b[0m \u001b[32m0.0/264.8 kB\u001b[0m \u001b[31m?\u001b[0m eta \u001b[36m-:--:--\u001b[0m\r\u001b[2K     \u001b[90m━━━━━━━━━━━━━━━━━━━━━━━━━━━━━━━━━━━━━━━━\u001b[0m \u001b[32m264.8/264.8 kB\u001b[0m \u001b[31m9.0 MB/s\u001b[0m eta \u001b[36m0:00:00\u001b[0m\n",
            "\u001b[?25h  Preparing metadata (setup.py) ... \u001b[?25l\u001b[?25hdone\n",
            "Building wheels for collected packages: infomap\n",
            "  Building wheel for infomap (setup.py) ... \u001b[?25l\u001b[?25hdone\n",
            "  Created wheel for infomap: filename=infomap-2.8.0-cp310-cp310-linux_x86_64.whl size=7695875 sha256=ead37b4d6eb40ad302ff8239c06e46eb8cf9ed408a5bf7f31aab78807b7a4628\n",
            "  Stored in directory: /root/.cache/pip/wheels/b5/0c/9b/9816a0207b931219a0c5b2edc14d84099ddd57f7097f926b16\n",
            "Successfully built infomap\n",
            "Installing collected packages: infomap\n",
            "Successfully installed infomap-2.8.0\n"
          ]
        }
      ]
    },
    {
      "cell_type": "code",
      "source": [
        "# https://mapequation.github.io/infomap/python/\n",
        "from infomap import Infomap\n",
        "\n",
        "# Command line flags can be added as a string to Infomap\n",
        "im = Infomap(\"--two-level --directed\")\n",
        "\n",
        "im.add_networkx_graph(graph)\n",
        "\n",
        "im.run()"
      ],
      "metadata": {
        "id": "BsJlA4a3XcX5"
      },
      "execution_count": 9,
      "outputs": []
    },
    {
      "cell_type": "code",
      "source": [
        "communities = {}\n",
        "for node in im.nodes:\n",
        "    if node.module_id not in communities:\n",
        "        communities[node.module_id] = set()\n",
        "    communities[node.module_id].add(node.node_id)\n",
        "\n",
        "modularity(graph, communities)"
      ],
      "metadata": {
        "colab": {
          "base_uri": "https://localhost:8080/"
        },
        "id": "6349IUU7bk8Z",
        "outputId": "505fef2c-7343-4215-eefc-a8dcd357bdee"
      },
      "execution_count": 12,
      "outputs": [
        {
          "output_type": "execute_result",
          "data": {
            "text/plain": [
              "0.5824473762862389"
            ]
          },
          "metadata": {},
          "execution_count": 12
        }
      ]
    },
    {
      "cell_type": "code",
      "source": [
        "time_graph = nx.DiGraph()\n",
        "\n",
        "published_year = tuple(str(year) for year in range(1992, 2003))\n",
        "modularity_scores = [0 for _ in range(11)]\n",
        "com_sizes = [[] for _ in range(11)]\n",
        "max_size = [0 for _ in range(11)]\n",
        "num_coms = [0 for _ in range(11)]\n",
        "\n",
        "for i in range(1992, 2003):\n",
        "    print(\"************************************\")\n",
        "    print(i)\n",
        "    add_edges(str(i)+'-01-01', str(i)+'-12-31')\n",
        "\n",
        "    im = Infomap(\"--two-level --directed\")\n",
        "\n",
        "    im.add_networkx_graph(time_graph)\n",
        "\n",
        "    im.run()\n",
        "\n",
        "    global_community = {}\n",
        "    for node in im.nodes:\n",
        "        if node.module_id not in global_community:\n",
        "            global_community[node.module_id] = set()\n",
        "        global_community[node.module_id].add(node.node_id)\n",
        "\n",
        "    com_sizes[i-1992] = [len(com) for com in global_community.values()]\n",
        "    com_sizes[i-1992].sort(reverse=True)\n",
        "    max_size[i-1992] = com_sizes[i-1992][0]\n",
        "    num_coms[i-1992] = len(global_community)\n",
        "    modularity_scores[i-1992] = modularity(time_graph, global_community)\n"
      ],
      "metadata": {
        "colab": {
          "base_uri": "https://localhost:8080/"
        },
        "id": "QkAxHkdXkVO6",
        "outputId": "c05e6d6e-c2e5-413d-dc7c-8cce15cc39cd"
      },
      "execution_count": 14,
      "outputs": [
        {
          "output_type": "stream",
          "name": "stdout",
          "text": [
            "************************************\n",
            "1992\n",
            "************************************\n",
            "1993\n",
            "************************************\n",
            "1994\n",
            "************************************\n",
            "1995\n",
            "************************************\n",
            "1996\n",
            "************************************\n",
            "1997\n",
            "************************************\n",
            "1998\n",
            "************************************\n",
            "1999\n",
            "************************************\n",
            "2000\n",
            "************************************\n",
            "2001\n",
            "************************************\n",
            "2002\n"
          ]
        }
      ]
    },
    {
      "cell_type": "code",
      "source": [
        "fig, ax = plt.subplots()\n",
        "bar_container = ax.bar(published_year, modularity_scores, width=0.5)\n",
        "ax.set(xlabel='Year', ylabel='Modularity', title='Modularity scores of communities by year')\n",
        "ax.bar_label(bar_container, fmt='{:,.3f}')"
      ],
      "metadata": {
        "colab": {
          "base_uri": "https://localhost:8080/",
          "height": 663
        },
        "id": "uQ5-wkPZlL7o",
        "outputId": "07ada838-3ba8-4de2-921a-c7130abbf816"
      },
      "execution_count": 15,
      "outputs": [
        {
          "output_type": "execute_result",
          "data": {
            "text/plain": [
              "[Text(0, 0, '0.849'),\n",
              " Text(0, 0, '0.722'),\n",
              " Text(0, 0, '0.654'),\n",
              " Text(0, 0, '0.583'),\n",
              " Text(0, 0, '0.587'),\n",
              " Text(0, 0, '0.582'),\n",
              " Text(0, 0, '0.574'),\n",
              " Text(0, 0, '0.584'),\n",
              " Text(0, 0, '0.590'),\n",
              " Text(0, 0, '0.591'),\n",
              " Text(0, 0, '0.591')]"
            ]
          },
          "metadata": {},
          "execution_count": 15
        },
        {
          "output_type": "display_data",
          "data": {
            "text/plain": [
              "<Figure size 640x480 with 1 Axes>"
            ],
            "image/png": "[encoded data removed]"
          },
          "metadata": {}
        }
      ]
    },
    {
      "cell_type": "code",
      "source": [
        "fig, ax = plt.subplots()\n",
        "bar_container = ax.bar(published_year, num_coms, width=0.5)\n",
        "ax.set(xlabel='Year', ylabel='Number of communities', title='Number of communities by year')\n",
        "ax.bar_label(bar_container)"
      ],
      "metadata": {
        "colab": {
          "base_uri": "https://localhost:8080/",
          "height": 663
        },
        "id": "etJP5aHRlTRl",
        "outputId": "106bf6f8-6c80-48ea-b1bd-cbb39fce2602"
      },
      "execution_count": 16,
      "outputs": [
        {
          "output_type": "execute_result",
          "data": {
            "text/plain": [
              "[Text(0, 0, '461'),\n",
              " Text(0, 0, '831'),\n",
              " Text(0, 0, '933'),\n",
              " Text(0, 0, '920'),\n",
              " Text(0, 0, '873'),\n",
              " Text(0, 0, '830'),\n",
              " Text(0, 0, '854'),\n",
              " Text(0, 0, '874'),\n",
              " Text(0, 0, '851'),\n",
              " Text(0, 0, '825'),\n",
              " Text(0, 0, '818')]"
            ]
          },
          "metadata": {},
          "execution_count": 16
        },
        {
          "output_type": "display_data",
          "data": {
            "text/plain": [
              "<Figure size 640x480 with 1 Axes>"
            ],
            "image/png": "[encoded data removed]"
          },
          "metadata": {}
        }
      ]
    },
    {
      "cell_type": "code",
      "source": [
        "time_graph = nx.DiGraph()\n",
        "\n",
        "y_val = [0 for _ in range(11)]\n",
        "x_val = [i + 1992 for i in range(11)]\n",
        "\n",
        "for i in range(1992, 2003):\n",
        "    add_edges(str(i)+'-01-01', str(i)+'-12-31')\n",
        "    y_val[i - 1992] = num_coms[i-1992]/nx.number_weakly_connected_components(time_graph)\n",
        "\n",
        "fig, axs = plt.subplots()\n",
        "# plt.subplots_adjust(wspace=0.5)\n",
        "ax = axs\n",
        "bar_container = ax.bar(x_val, y_val, width=0.5)\n",
        "ax.set(xlabel='Year', ylabel='Communities/Connected Components', title='Communities/Connected Components by year')\n",
        "ax.bar_label(bar_container, fmt='{:,.3f}')"
      ],
      "metadata": {
        "colab": {
          "base_uri": "https://localhost:8080/",
          "height": 663
        },
        "id": "Sv4652_slbq3",
        "outputId": "9c737bcb-2eb5-4e2e-fb23-e711399eeeea"
      },
      "execution_count": 17,
      "outputs": [
        {
          "output_type": "execute_result",
          "data": {
            "text/plain": [
              "[Text(0, 0, '1.027'),\n",
              " Text(0, 0, '1.201'),\n",
              " Text(0, 0, '1.403'),\n",
              " Text(0, 0, '1.723'),\n",
              " Text(0, 0, '2.099'),\n",
              " Text(0, 0, '2.530'),\n",
              " Text(0, 0, '3.007'),\n",
              " Text(0, 0, '3.510'),\n",
              " Text(0, 0, '4.320'),\n",
              " Text(0, 0, '5.893'),\n",
              " Text(0, 0, '6.817')]"
            ]
          },
          "metadata": {},
          "execution_count": 17
        },
        {
          "output_type": "display_data",
          "data": {
            "text/plain": [
              "<Figure size 640x480 with 1 Axes>"
            ],
            "image/png": "[encoded data removed]"
          },
          "metadata": {}
        }
      ]
    },
    {
      "cell_type": "code",
      "source": [
        "fig, ax = plt.subplots()\n",
        "bar_container = ax.bar(published_year, max_size, width=0.5)\n",
        "ax.set(xlabel='Year', ylabel='Number of nodes', title='Maximum sized community by year')\n",
        "ax.bar_label(bar_container)"
      ],
      "metadata": {
        "colab": {
          "base_uri": "https://localhost:8080/",
          "height": 663
        },
        "id": "8LId0QyTljda",
        "outputId": "7b22fc22-8159-4ff4-c56c-6b1f7c7f8355"
      },
      "execution_count": 18,
      "outputs": [
        {
          "output_type": "execute_result",
          "data": {
            "text/plain": [
              "[Text(0, 0, '11'),\n",
              " Text(0, 0, '82'),\n",
              " Text(0, 0, '161'),\n",
              " Text(0, 0, '234'),\n",
              " Text(0, 0, '347'),\n",
              " Text(0, 0, '407'),\n",
              " Text(0, 0, '520'),\n",
              " Text(0, 0, '818'),\n",
              " Text(0, 0, '1041'),\n",
              " Text(0, 0, '1364'),\n",
              " Text(0, 0, '1432')]"
            ]
          },
          "metadata": {},
          "execution_count": 18
        },
        {
          "output_type": "display_data",
          "data": {
            "text/plain": [
              "<Figure size 640x480 with 1 Axes>"
            ],
            "image/png": "[encoded data removed]"
          },
          "metadata": {}
        }
      ]
    },
    {
      "cell_type": "code",
      "source": [
        "avg_coms = [0 for _ in range(11)]\n",
        "for i in range(11):\n",
        "    avg_coms[i] = sum(com_sizes[i])/len(com_sizes[i])\n",
        "fig, ax = plt.subplots()\n",
        "bar_container = ax.bar(published_year, avg_coms, width=0.5)\n",
        "ax.set(xlabel='Year', ylabel='Average community size', title='Average size of communities by year')\n",
        "ax.bar_label(bar_container)"
      ],
      "metadata": {
        "colab": {
          "base_uri": "https://localhost:8080/",
          "height": 663
        },
        "id": "NcFQifJ6lxOf",
        "outputId": "621af8f3-1d5b-474f-ac71-fe24c11bd4c7"
      },
      "execution_count": 19,
      "outputs": [
        {
          "output_type": "execute_result",
          "data": {
            "text/plain": [
              "[Text(0, 0, '1.26247'),\n",
              " Text(0, 0, '2.54753'),\n",
              " Text(0, 0, '4.73848'),\n",
              " Text(0, 0, '7.9087'),\n",
              " Text(0, 0, '12.0057'),\n",
              " Text(0, 0, '16.8831'),\n",
              " Text(0, 0, '20.7681'),\n",
              " Text(0, 0, '24.873'),\n",
              " Text(0, 0, '30.4266'),\n",
              " Text(0, 0, '36.2158'),\n",
              " Text(0, 0, '37.3606')]"
            ]
          },
          "metadata": {},
          "execution_count": 19
        },
        {
          "output_type": "display_data",
          "data": {
            "text/plain": [
              "<Figure size 640x480 with 1 Axes>"
            ],
            "image/png": "[encoded data removed]"
          },
          "metadata": {}
        }
      ]
    },
    {
      "cell_type": "code",
      "source": [
        "L = [0 for _ in range(len(node_to_id))]\n",
        "for com in communities:\n",
        "    for node in communities[com]:\n",
        "        if str(node) in node_to_id:\n",
        "            L[node_to_id[str(node)]] = com\n",
        "            # print(node_to_id[str(node)], com)\n",
        "\n",
        "import io\n",
        "\n",
        "out_m = io.open(\"colours_2.tsv\", \"w\", encoding=\"utf-8\")\n",
        "\n",
        "for i in range(len(L)):\n",
        "    out_m.write(str(L[i]) + \"\\n\")\n",
        "out_m.close()"
      ],
      "metadata": {
        "id": "6jA-KgYMgcH7"
      },
      "execution_count": null,
      "outputs": []
    },
    {
      "cell_type": "code",
      "source": [
        "model = tf.keras.models.load_model('embeddings_long_train.keras')\n",
        "node_embeddings = model.get_layer(\"item_embeddings\").get_weights()[0]\n",
        "print(node_embeddings.shape)"
      ],
      "metadata": {
        "colab": {
          "base_uri": "https://localhost:8080/"
        },
        "id": "sBYagH-vx77c",
        "outputId": "ca8bde96-a041-419a-9e15-26c95f40fab5"
      },
      "execution_count": 20,
      "outputs": [
        {
          "output_type": "stream",
          "name": "stdout",
          "text": [
            "(19780, 100)\n"
          ]
        }
      ]
    },
    {
      "cell_type": "code",
      "source": [
        "embeddings = np.array(node_embeddings)\n",
        "embeddings.shape"
      ],
      "metadata": {
        "colab": {
          "base_uri": "https://localhost:8080/"
        },
        "id": "F96tfV3iyG4O",
        "outputId": "2ee4a0f6-a59c-4d9c-fcc5-a716028a618f"
      },
      "execution_count": 21,
      "outputs": [
        {
          "output_type": "execute_result",
          "data": {
            "text/plain": [
              "(19780, 100)"
            ]
          },
          "metadata": {},
          "execution_count": 21
        }
      ]
    },
    {
      "cell_type": "code",
      "source": [
        "scores = np.dot(embeddings, embeddings.T)"
      ],
      "metadata": {
        "id": "l2M4fZZZyjCp"
      },
      "execution_count": null,
      "outputs": []
    },
    {
      "cell_type": "code",
      "source": [
        "scores.shape"
      ],
      "metadata": {
        "colab": {
          "base_uri": "https://localhost:8080/"
        },
        "id": "RE4Xz9Kry0Z3",
        "outputId": "9c20f5d8-faa0-4d5f-a50b-9bdf4617a8d8"
      },
      "execution_count": null,
      "outputs": [
        {
          "output_type": "execute_result",
          "data": {
            "text/plain": [
              "(19780, 19780)"
            ]
          },
          "metadata": {},
          "execution_count": 38
        }
      ]
    },
    {
      "cell_type": "code",
      "source": [
        "scores[10][10]"
      ],
      "metadata": {
        "colab": {
          "base_uri": "https://localhost:8080/"
        },
        "id": "ySgbv-L2y2zW",
        "outputId": "e0be5812-6f8b-4805-9a91-068e1bdc6b57"
      },
      "execution_count": null,
      "outputs": [
        {
          "output_type": "execute_result",
          "data": {
            "text/plain": [
              "0.9946875"
            ]
          },
          "metadata": {},
          "execution_count": 39
        }
      ]
    },
    {
      "cell_type": "code",
      "source": [
        "L = scores.flatten()\n",
        "# sz = scores.shape[0]\n",
        "# for i in range(100000):\n",
        "#     L.append(scores[random.randrange(sz), random.randrange(sz)])"
      ],
      "metadata": {
        "id": "ktWR3ws_y5bB"
      },
      "execution_count": null,
      "outputs": []
    },
    {
      "cell_type": "code",
      "source": [
        "n_bins = 50\n",
        "counts, bins = np.histogram(L, bins=n_bins)\n",
        "\n",
        "plt.bar(bins[:-1], counts, width=np.diff(bins))\n",
        "plt.show()"
      ],
      "metadata": {
        "colab": {
          "base_uri": "https://localhost:8080/",
          "height": 445
        },
        "id": "9WRrKNACzjxI",
        "outputId": "0f73815d-1158-44f7-e75a-e9ccbd6ed50b"
      },
      "execution_count": null,
      "outputs": [
        {
          "output_type": "display_data",
          "data": {
            "text/plain": [
              "<Figure size 640x480 with 1 Axes>"
            ],
            "image/png": "[encoded data removed]"
          },
          "metadata": {}
        }
      ]
    },
    {
      "cell_type": "code",
      "source": [
        "max(L)"
      ],
      "metadata": {
        "id": "f1hD97F30jZC",
        "colab": {
          "base_uri": "https://localhost:8080/"
        },
        "outputId": "86636cd2-dc18-4a0a-ff68-0b9f071ed99b"
      },
      "execution_count": null,
      "outputs": [
        {
          "output_type": "execute_result",
          "data": {
            "text/plain": [
              "11.5195265"
            ]
          },
          "metadata": {},
          "execution_count": 42
        }
      ]
    },
    {
      "cell_type": "code",
      "source": [
        "k = 20\n",
        "num_iter = 15\n",
        "\n",
        "centroid = np.zeros((k, embeddings.shape[1]))\n",
        "\n",
        "idx = np.random.choice(range(len(embeddings)), k, replace=False)\n",
        "\n",
        "for i in range(k):\n",
        "    centroid[i] = embeddings[idx[i]]\n",
        "\n",
        "centroid.shape"
      ],
      "metadata": {
        "colab": {
          "base_uri": "https://localhost:8080/"
        },
        "id": "144BuDUK8wRj",
        "outputId": "5e0b7cdc-d9b0-4130-cf24-47158a91f125"
      },
      "execution_count": 22,
      "outputs": [
        {
          "output_type": "execute_result",
          "data": {
            "text/plain": [
              "(20, 100)"
            ]
          },
          "metadata": {},
          "execution_count": 22
        }
      ]
    },
    {
      "cell_type": "code",
      "source": [
        "def euclidean_dist(v1, v2):\n",
        "    return np.sqrt(np.sum(np.square(v1 - v2), 1))"
      ],
      "metadata": {
        "id": "n1db8Z7BSwEg"
      },
      "execution_count": 23,
      "outputs": []
    },
    {
      "cell_type": "code",
      "source": [
        "for _ in range(num_iter):\n",
        "    print(_)\n",
        "    centroid_new = np.zeros(centroid.shape)\n",
        "    count = np.zeros(centroid.shape[0])\n",
        "\n",
        "    for i in range(len(embeddings)):\n",
        "        min_dist = 1e18\n",
        "        min_id = 0\n",
        "        if i % 10000 == 0:\n",
        "            print(i)\n",
        "        dist = euclidean_dist(embeddings[i], centroid)\n",
        "        min_id = np.argmin(dist)\n",
        "\n",
        "        centroid_new[min_id] += embeddings[i]\n",
        "        count[min_id] += 1\n",
        "\n",
        "    for i in range(k):\n",
        "        if count[i] == 0:\n",
        "            continue\n",
        "        centroid[i] = centroid_new[i] / count[i]\n"
      ],
      "metadata": {
        "colab": {
          "base_uri": "https://localhost:8080/"
        },
        "id": "AX91iEdATZcZ",
        "outputId": "3cfd6c9e-f2bc-49e9-a7b5-15a4f3a47d48"
      },
      "execution_count": 24,
      "outputs": [
        {
          "output_type": "stream",
          "name": "stdout",
          "text": [
            "0\n",
            "0\n",
            "10000\n",
            "1\n",
            "0\n",
            "10000\n",
            "2\n",
            "0\n",
            "10000\n",
            "3\n",
            "0\n",
            "10000\n",
            "4\n",
            "0\n",
            "10000\n",
            "5\n",
            "0\n",
            "10000\n",
            "6\n",
            "0\n",
            "10000\n",
            "7\n",
            "0\n",
            "10000\n",
            "8\n",
            "0\n",
            "10000\n",
            "9\n",
            "0\n",
            "10000\n",
            "10\n",
            "0\n",
            "10000\n",
            "11\n",
            "0\n",
            "10000\n",
            "12\n",
            "0\n",
            "10000\n",
            "13\n",
            "0\n",
            "10000\n",
            "14\n",
            "0\n",
            "10000\n"
          ]
        }
      ]
    },
    {
      "cell_type": "code",
      "source": [
        "import json\n",
        "\n",
        "with open(\"/content/node_id.json\", \"r\") as f:\n",
        "    node_to_id = json.load(f)\n",
        "\n",
        "id_to_node = {node_to_id[node]: node for node in node_to_id}\n"
      ],
      "metadata": {
        "id": "bcP9I1uldQSP"
      },
      "execution_count": 25,
      "outputs": []
    },
    {
      "cell_type": "code",
      "source": [
        "curr_communities = {i:set() for i in range(k)}\n",
        "\n",
        "for i in range(len(embeddings)):\n",
        "\n",
        "    dist = euclidean_dist(embeddings[i], centroid)\n",
        "    min_id = np.argmin(dist)\n",
        "\n",
        "    curr_communities[min_id].add(int(id_to_node[i]))"
      ],
      "metadata": {
        "id": "2I8-yi13VfJ-"
      },
      "execution_count": null,
      "outputs": []
    },
    {
      "cell_type": "code",
      "source": [
        "len(max(curr_communities.values(), key=len))"
      ],
      "metadata": {
        "colab": {
          "base_uri": "https://localhost:8080/"
        },
        "id": "KBQyUTVQtK5o",
        "outputId": "05efff08-ad2e-4144-85ff-01e0231f4ad5"
      },
      "execution_count": null,
      "outputs": [
        {
          "output_type": "execute_result",
          "data": {
            "text/plain": [
              "2072"
            ]
          },
          "metadata": {},
          "execution_count": 58
        }
      ]
    },
    {
      "cell_type": "code",
      "source": [
        "len(curr_communities)"
      ],
      "metadata": {
        "colab": {
          "base_uri": "https://localhost:8080/"
        },
        "id": "tcSyJXAkV5Zq",
        "outputId": "1f964f2f-f7f7-4f15-a594-68935a6b4455"
      },
      "execution_count": null,
      "outputs": [
        {
          "output_type": "execute_result",
          "data": {
            "text/plain": [
              "20"
            ]
          },
          "metadata": {},
          "execution_count": 59
        }
      ]
    },
    {
      "cell_type": "code",
      "source": [
        "modularity(graph, curr_communities)"
      ],
      "metadata": {
        "colab": {
          "base_uri": "https://localhost:8080/"
        },
        "id": "ufPYaUWccr9q",
        "outputId": "9918fc91-c6af-4a0c-dfba-42609808ef4e"
      },
      "execution_count": null,
      "outputs": [
        {
          "output_type": "execute_result",
          "data": {
            "text/plain": [
              "0.5971133333333333"
            ]
          },
          "metadata": {},
          "execution_count": 61
        }
      ]
    },
    {
      "cell_type": "code",
      "source": [
        "L = [0 for _ in range(node_embeddings.shape[0])]\n",
        "for com in curr_communities:\n",
        "    for node in curr_communities[com]:\n",
        "        L[node] = com\n",
        "            # print(node_to_id[str(node)], com)\n",
        "\n",
        "import io\n",
        "\n",
        "out_m = io.open(\"colours_3.tsv\", \"w\", encoding=\"utf-8\")\n",
        "\n",
        "for i in range(len(L)):\n",
        "    out_m.write(str(L[i]) + \"\\n\")\n",
        "out_m.close()"
      ],
      "metadata": {
        "id": "V5KlIRPUm2Ak"
      },
      "execution_count": null,
      "outputs": []
    },
    {
      "cell_type": "code",
      "source": [],
      "metadata": {
        "id": "_jcxSuLztliI"
      },
      "execution_count": null,
      "outputs": []
    }
  ]
}